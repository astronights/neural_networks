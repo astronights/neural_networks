{
  "nbformat": 4,
  "nbformat_minor": 0,
  "metadata": {
    "colab": {
      "name": "CS5242_HW1_part2.ipynb",
      "provenance": [],
      "collapsed_sections": []
    },
    "kernelspec": {
      "name": "python3",
      "display_name": "Python 3"
    },
    "language_info": {
      "name": "python"
    },
    "gpuClass": "standard",
    "accelerator": "GPU"
  },
  "cells": [
    {
      "cell_type": "markdown",
      "source": [
        "# CS5242 HW1: Get started with PyTorch\n",
        "\n",
        "PyTorch is an open source machine learning framework with 58k stars on the [github](https://github.com/pytorch/pytorch). In this code tutorial we will learn the basic of PyTorch.\n",
        "\n",
        "Colab is a hosted Jupyter notebook service that requires no setup to use, while providing access free of charge to computing resources including GPUs. In this semester, we will use Colab to run our experiments."
      ],
      "metadata": {
        "id": "IjOZXM4o8ARu"
      }
    },
    {
      "cell_type": "markdown",
      "source": [
        "## Section 1: Environmental Setup\n",
        "\n",
        "First, we need to install the PyTorch and check the pytorch version."
      ],
      "metadata": {
        "id": "cjW6lJ2Q81N4"
      }
    },
    {
      "cell_type": "code",
      "execution_count": null,
      "metadata": {
        "colab": {
          "base_uri": "https://localhost:8080/",
          "height": 87
        },
        "id": "QV9aoa5Q0OiH",
        "outputId": "5446e3be-7020-4f9e-bada-6fb0c2947d11"
      },
      "outputs": [
        {
          "output_type": "stream",
          "name": "stdout",
          "text": [
            "Looking in indexes: https://pypi.org/simple, https://us-python.pkg.dev/colab-wheels/public/simple/\n",
            "Requirement already satisfied: torch in /usr/local/lib/python3.7/dist-packages (1.12.1+cu113)\n",
            "Requirement already satisfied: typing-extensions in /usr/local/lib/python3.7/dist-packages (from torch) (4.1.1)\n"
          ]
        },
        {
          "output_type": "execute_result",
          "data": {
            "text/plain": [
              "'1.12.1+cu113'"
            ],
            "application/vnd.google.colaboratory.intrinsic+json": {
              "type": "string"
            }
          },
          "metadata": {},
          "execution_count": 1
        }
      ],
      "source": [
        "!pip3 install torch\n",
        "\n",
        "import torch\n",
        "torch.__version__"
      ]
    },
    {
      "cell_type": "markdown",
      "source": [
        "Here are some routines for importing and setting up torch."
      ],
      "metadata": {
        "id": "tT09jYu-9ecO"
      }
    },
    {
      "cell_type": "code",
      "source": [
        "# frequently used import\n",
        "import torch\n",
        "import torch.nn as nn\n",
        "import torch.nn.functional as F\n",
        "import numpy as np\n",
        "import random\n",
        "import matplotlib.pyplot as plt\n",
        "\n",
        "# fix the random number so that the experiments are reproducible\n",
        "random.seed(0)\n",
        "np.random.seed(0)\n",
        "torch.manual_seed(0)"
      ],
      "metadata": {
        "colab": {
          "base_uri": "https://localhost:8080/"
        },
        "id": "oMPTE7J01v-p",
        "outputId": "d46cb828-cc0d-4ba1-dd17-d88f54456f0a"
      },
      "execution_count": 1,
      "outputs": [
        {
          "output_type": "execute_result",
          "data": {
            "text/plain": [
              "<torch._C.Generator at 0x7f6c6a5cfa30>"
            ]
          },
          "metadata": {},
          "execution_count": 1
        }
      ]
    },
    {
      "cell_type": "markdown",
      "source": [
        "The best referrence for pytorch is its [document](https://pytorch.org/docs/stable/index.html). PyTorch is well-known for a good community.\n",
        "\n",
        "Now let's setup the GPU environment. The colab provides a free GPU to use. Do as follows:\n",
        "\n",
        "- Runtime -> Change Runtime Type -> select `GPU` in Hardware accelerator\n",
        "- Click `connect` on the top-right\n",
        "\n",
        "After connecting to one GPU, you can check its status using `nvidia-smi` command."
      ],
      "metadata": {
        "id": "TeVi4BmJ-cI-"
      }
    },
    {
      "cell_type": "code",
      "source": [
        "!nvidia-smi"
      ],
      "metadata": {
        "colab": {
          "base_uri": "https://localhost:8080/"
        },
        "id": "Zd4WVQP6-Anp",
        "outputId": "39ff0dd4-7742-4ce1-858a-d0792bb2ef1a"
      },
      "execution_count": 2,
      "outputs": [
        {
          "output_type": "stream",
          "name": "stdout",
          "text": [
            "Mon Aug 29 03:22:31 2022       \n",
            "+-----------------------------------------------------------------------------+\n",
            "| NVIDIA-SMI 460.32.03    Driver Version: 460.32.03    CUDA Version: 11.2     |\n",
            "|-------------------------------+----------------------+----------------------+\n",
            "| GPU  Name        Persistence-M| Bus-Id        Disp.A | Volatile Uncorr. ECC |\n",
            "| Fan  Temp  Perf  Pwr:Usage/Cap|         Memory-Usage | GPU-Util  Compute M. |\n",
            "|                               |                      |               MIG M. |\n",
            "|===============================+======================+======================|\n",
            "|   0  Tesla T4            Off  | 00000000:00:04.0 Off |                    0 |\n",
            "| N/A   48C    P8     9W /  70W |      0MiB / 15109MiB |      0%      Default |\n",
            "|                               |                      |                  N/A |\n",
            "+-------------------------------+----------------------+----------------------+\n",
            "                                                                               \n",
            "+-----------------------------------------------------------------------------+\n",
            "| Processes:                                                                  |\n",
            "|  GPU   GI   CI        PID   Type   Process name                  GPU Memory |\n",
            "|        ID   ID                                                   Usage      |\n",
            "|=============================================================================|\n",
            "|  No running processes found                                                 |\n",
            "+-----------------------------------------------------------------------------+\n"
          ]
        }
      ]
    },
    {
      "cell_type": "markdown",
      "source": [
        "Here, you can see the memory and memory usage of the applied GPU. For my case, the applied one is a Tesla T4. The GPU applied may be different, but it is ok for our experiments.\n",
        "\n",
        "Now let's create tensor, which is the basic element in PyTorch."
      ],
      "metadata": {
        "id": "nVKG11x__bwn"
      }
    },
    {
      "cell_type": "code",
      "source": [
        "x1 = torch.tensor(1.0) # tensor on CPU\n",
        "x2 = torch.tensor(1.0, device=\"cuda:0\") # tensor on GPU\n",
        "x3 = torch.tensor(1.0, requires_grad=True).cuda() # tensor on GPU and require grad\n",
        "print(\"x1:\", x1)\n",
        "print(\"x2:\", x2)\n",
        "print(\"x3:\", x3)"
      ],
      "metadata": {
        "id": "fh8esjGD_Zgk",
        "colab": {
          "base_uri": "https://localhost:8080/"
        },
        "outputId": "f6085635-1e23-4acc-84f5-257b8561d019"
      },
      "execution_count": 12,
      "outputs": [
        {
          "output_type": "stream",
          "name": "stdout",
          "text": [
            "x1: tensor(1.)\n",
            "x2: tensor(1., device='cuda:0')\n",
            "x3: tensor(1., device='cuda:0', grad_fn=<ToCopyBackward0>)\n"
          ]
        }
      ]
    },
    {
      "cell_type": "markdown",
      "source": [
        "In the following sections, you need to fill in the code to complete the function and answer the questions.\n",
        "\n",
        "The question will be in the form:\n",
        "\n",
        "===> Question: What is deep learning?  \n",
        "===> Answer:  \n",
        "Your answer here.\n",
        "\n",
        "The code completion will be in the form:"
      ],
      "metadata": {
        "id": "NjwOgo_9Iw7N"
      }
    },
    {
      "cell_type": "code",
      "source": [
        "# === Complete the code\n",
        "\n",
        "# === Complete the code"
      ],
      "metadata": {
        "id": "YfUaeMpxJTXD"
      },
      "execution_count": null,
      "outputs": []
    },
    {
      "cell_type": "markdown",
      "source": [
        "Grades: HW1 is composed of two parts and 10 points in all. Each part contains 5 points.  \n",
        "\n",
        "The homework on PDF consists of 10 questions, each is worth 0.5 points. You can write the answer by LaTeX, word or handwritting (take photo) and submit to the system.  \n",
        "\n",
        "The homework here on notebook (colab) consists of several code completions and 5 questions. There are 18 units for code completions (one unit for one line, which is also a hint). And there are 12 units for questions. 30 units in total will share the 5 points. For submission, you need to submit the notebook with output.\n",
        "\n",
        "15% off per day late (17:01 is the start of one day)​\n",
        "\n",
        "0 score if you submit it 7 days after the deadline​\n",
        "\n",
        "Deadline for homework on PDF: 17:00, 22 Aug  \n",
        "Deadline for homework on Notebook: 17:00, 30 Aug"
      ],
      "metadata": {
        "id": "eiVo1YcIkhE8"
      }
    },
    {
      "cell_type": "markdown",
      "source": [
        "## Section 2: Basic Usage"
      ],
      "metadata": {
        "id": "aQQbaMIPBX_r"
      }
    },
    {
      "cell_type": "code",
      "source": [
        "# 2.1: Use autograd to calculate gradients\n",
        "\n",
        "# Create tensors.\n",
        "x = torch.tensor(1., requires_grad=True)\n",
        "w = torch.tensor(2., requires_grad=True)\n",
        "b = torch.tensor(3., requires_grad=True)\n",
        "y = torch.tensor(4.)\n",
        "\n",
        "# Build a computational graph.\n",
        "pred = w * x + b\n",
        "L = (pred - y)**2\n",
        "\n",
        "# Compute gradients.\n",
        "# === Complete the code (1')\n",
        "L.backward()\n",
        "# === Complete the code\n",
        "\n",
        "# Print out the gradients.\n",
        "print(x.grad)\n",
        "print(w.grad)\n",
        "print(b.grad)"
      ],
      "metadata": {
        "id": "nMrDE_L6Afkx",
        "colab": {
          "base_uri": "https://localhost:8080/"
        },
        "outputId": "fffff29f-68c0-4576-a776-09e9a300910e"
      },
      "execution_count": 13,
      "outputs": [
        {
          "output_type": "stream",
          "name": "stdout",
          "text": [
            "tensor(4.)\n",
            "tensor(2.)\n",
            "tensor(2.)\n"
          ]
        }
      ]
    },
    {
      "cell_type": "markdown",
      "source": [
        "===> Question 1: Compute the above gradients on your own and show the result from PyTorch is correct. (2')  \n",
        "===> Answer: The gradients are as follows:\n",
        "\n",
        "$\\frac{\\partial L}{\\partial x} = \\frac{\\partial }{\\partial x} ((w * x + b - y)^2) = 2(w * x + b - y)*w$\n",
        "\n",
        "$\\frac{\\partial L}{\\partial w} = \\frac{\\partial }{\\partial w} ((w * x + b - y)^2) = 2(w * x + b - y)*x$\n",
        "\n",
        "$\\frac{\\partial L}{\\partial b} = \\frac{\\partial }{\\partial b} ((w * x + b - y)^2) = 2(w * x + b - y)$\n",
        "\n",
        "Substituting values of $x=1, w=2, b=3, y=4$:\n",
        "\n",
        "$2(w*x+b-y) = 2(2*1+3-4) = 2$\n",
        "\n",
        "Therefore:\n",
        "\n",
        "$\\frac{\\partial L}{\\partial x} = 2*2 = 4$ <br/>\n",
        "$\\frac{\\partial L}{\\partial w} = 2*1 = 2$ <br/>\n",
        "$\\frac{\\partial L}{\\partial b} = 2$ <br/>\n",
        "\n",
        "The results are verified with those obtained from Pytorch."
      ],
      "metadata": {
        "id": "ZhnZkwPcJ-EU"
      }
    },
    {
      "cell_type": "code",
      "source": [
        "# 2.2 update parameters by gradient descent\n",
        "\n",
        "# we want to update parameters w and b\n",
        "lr = 0.01\n",
        "\n",
        "# 1-step gradient descent\n",
        "# === Complete the code (2')\n",
        "w = torch.tensor(w - (lr*w.grad), requires_grad=True)\n",
        "b = torch.tensor(b - (lr*b.grad), requires_grad=True)\n",
        "# === Complete the code\n",
        "\n",
        "# current loss\n",
        "pred = w * x + b\n",
        "L = (pred - y)**2\n",
        "\n",
        "print(w)\n",
        "print(b)\n",
        "print(L)"
      ],
      "metadata": {
        "colab": {
          "base_uri": "https://localhost:8080/"
        },
        "id": "yfGXyGNRIfzk",
        "outputId": "ee037c01-55ea-4c04-f861-aa27009a0787"
      },
      "execution_count": 14,
      "outputs": [
        {
          "output_type": "stream",
          "name": "stdout",
          "text": [
            "tensor(1.9800, requires_grad=True)\n",
            "tensor(2.9800, requires_grad=True)\n",
            "tensor(0.9216, grad_fn=<PowBackward0>)\n"
          ]
        },
        {
          "output_type": "stream",
          "name": "stderr",
          "text": [
            "/usr/local/lib/python3.7/dist-packages/ipykernel_launcher.py:8: UserWarning: To copy construct from a tensor, it is recommended to use sourceTensor.clone().detach() or sourceTensor.clone().detach().requires_grad_(True), rather than torch.tensor(sourceTensor).\n",
            "  \n",
            "/usr/local/lib/python3.7/dist-packages/ipykernel_launcher.py:9: UserWarning: To copy construct from a tensor, it is recommended to use sourceTensor.clone().detach() or sourceTensor.clone().detach().requires_grad_(True), rather than torch.tensor(sourceTensor).\n",
            "  if __name__ == '__main__':\n"
          ]
        }
      ]
    },
    {
      "cell_type": "code",
      "source": [
        "# 2.3 update parameters by optimizer\n",
        "\n",
        "# Use SGD optimizer\n",
        "optimizer = torch.optim.SGD([w, b], lr=0.01)\n",
        "\n",
        "# 5-step gradient descent.\n",
        "for t in range(5):\n",
        "  pred = w * x + b\n",
        "  L = (pred - y)**2\n",
        "  optimizer.zero_grad()\n",
        "  # === Complete the code (2')\n",
        "  L.backward()\n",
        "  optimizer.step()\n",
        "  # === Complete the code\n",
        "\n",
        "print(w)\n",
        "print(b)\n",
        "print(L)"
      ],
      "metadata": {
        "colab": {
          "base_uri": "https://localhost:8080/"
        },
        "id": "BhtTMooZK5gU",
        "outputId": "f8aa7f2a-4c11-44a9-f144-4dddde12be9c"
      },
      "execution_count": 15,
      "outputs": [
        {
          "output_type": "stream",
          "name": "stdout",
          "text": [
            "tensor(1.8914, requires_grad=True)\n",
            "tensor(2.8914, requires_grad=True)\n",
            "tensor(0.6648, grad_fn=<PowBackward0>)\n"
          ]
        }
      ]
    },
    {
      "cell_type": "markdown",
      "source": [
        "===> Question 2: Why do we need `optimizer.zero_grad()`? (1') What happens if we do not `zero_grad` in each step? (1')  \n",
        "===> Answer: The `optimizer.zero_grad()` function sets all the gradients to zero. We need this in order to reset the gradients at every step of our training process. This is because PyTorch accumulates gradients on every step of the training. In order to only preserve the newer (improved weights) from each step, we use `zero_grad` to reset the gradient to 0 after iterations to ensure parameter updates happen correctly.\n",
        "\n",
        "If we do not use `zero_grad`, the gradients across the model would keep accumulating and lead to inaccurate updates of the model parameters. It can lead to an non-decreasing or increasing loss across epochs during training as the gradients are not reset.\n",
        "\n",
        "===> Question 3: What's the meaning of `grad_fn=<PowBackward0>`? (1')  \n",
        "===> Answer: The `grad_fn` argument is used to indicate the function that led to the creation of the tensor variable. It indicates that a power (exponent) has been used to create the variable it references, which is true in our case for $L$ where $L = (pred-y)^2$ \n"
      ],
      "metadata": {
        "id": "26UwTeMmNZ1v"
      }
    },
    {
      "cell_type": "code",
      "source": [
        "# 2.4 create tensors\n",
        "\n",
        "shape = (2, 3)\n",
        "\n",
        "# create an empty tensor\n",
        "x = torch.empty(shape)\n",
        "print(x)\n",
        "\n",
        "# create a full-zero tensor with type long\n",
        "# === Complete the code (1')\n",
        "x = torch.zeros(shape, dtype=torch.long)\n",
        "# === Complete the code\n",
        "print(x)\n",
        "\n",
        "# create a a tensor filled with random numbers from \n",
        "# a uniform distribution on the interval [0, 1)\n",
        "# === Complete the code (1')\n",
        "x = torch.empty(shape).uniform_()\n",
        "# === Complete the code\n",
        "print(x)\n",
        "\n",
        "# create a tensor filled with random numbers from a standard normal distribution\n",
        "# === Complete the code (1')\n",
        "x = torch.empty(shape).normal_()\n",
        "# === Complete the code\n",
        "print(x)\n",
        "\n",
        "# create a tensor from numpy\n",
        "x = np.array([[1, 2], [3, 4]])\n",
        "# === Complete the code (1')\n",
        "x = torch.from_numpy(x)\n",
        "# === Complete the code\n",
        "print(x)\n",
        "\n",
        "# convert a tensor to numpy\n",
        "x = x.numpy()\n",
        "print(x)"
      ],
      "metadata": {
        "colab": {
          "base_uri": "https://localhost:8080/"
        },
        "id": "4Nfs1aLuK8Dw",
        "outputId": "535e8200-c126-495f-89db-a900a05acdba"
      },
      "execution_count": 16,
      "outputs": [
        {
          "output_type": "stream",
          "name": "stdout",
          "text": [
            "tensor([[4.0313e+05, 0.0000e+00, 3.3631e-44],\n",
            "        [0.0000e+00,        nan, 0.0000e+00]])\n",
            "tensor([[0, 0, 0],\n",
            "        [0, 0, 0]])\n",
            "tensor([[0.4963, 0.7682, 0.0885],\n",
            "        [0.1320, 0.3074, 0.6341]])\n",
            "tensor([[ 1.2645, -0.6874,  0.1604],\n",
            "        [-0.6065, -0.7831,  1.0622]])\n",
            "tensor([[1, 2],\n",
            "        [3, 4]])\n",
            "[[1 2]\n",
            " [3 4]]\n"
          ]
        }
      ]
    },
    {
      "cell_type": "code",
      "source": [
        "# 2.5 gradient of matrix and vector\n",
        "\n",
        "# Create tensors of shape (10, 3) and (10, 2).\n",
        "x = torch.randn(10, 3)\n",
        "y = torch.randn(10, 2)\n",
        "\n",
        "# Build a fully connected layer.\n",
        "linear = nn.Linear(3, 2)\n",
        "print ('w: ', linear.weight)\n",
        "print ('b: ', linear.bias)\n",
        "\n",
        "# Build loss function and optimizer.\n",
        "criterion = nn.MSELoss()\n",
        "\n",
        "# Forward pass.\n",
        "pred = linear(x)\n",
        "\n",
        "# Compute loss.\n",
        "# === Complete the code (1')\n",
        "loss = criterion(pred, y)\n",
        "# === Complete the code\n",
        "print('loss: ', loss.item())\n",
        "\n",
        "# Backward pass.\n",
        "loss.backward()\n",
        "# Print out the gradients.\n",
        "# === Complete the code (2')\n",
        "print ('dL/dw: ', linear.weight.grad) \n",
        "print ('dL/db: ', linear.bias.grad)\n",
        "# === Complete the code"
      ],
      "metadata": {
        "colab": {
          "base_uri": "https://localhost:8080/"
        },
        "id": "nsj3pdawPs5o",
        "outputId": "100c24a4-920a-45a1-8753-2b39bf5fc392"
      },
      "execution_count": 17,
      "outputs": [
        {
          "output_type": "stream",
          "name": "stdout",
          "text": [
            "w:  Parameter containing:\n",
            "tensor([[ 0.5431,  0.3890, -0.2517],\n",
            "        [-0.1453, -0.5500, -0.0104]], requires_grad=True)\n",
            "b:  Parameter containing:\n",
            "tensor([-0.4348, -0.4453], requires_grad=True)\n",
            "loss:  2.650336503982544\n",
            "dL/dw:  tensor([[ 1.0951,  0.9776, -1.2607],\n",
            "        [ 0.0268, -1.7639, -0.2130]])\n",
            "dL/db:  tensor([-0.3936, -1.1098])\n"
          ]
        }
      ]
    },
    {
      "cell_type": "markdown",
      "source": [
        "===> Question 4: What is the function of the above code? Do a shape check for the gradient computation above. (2')  \n",
        "===> Answer: The code above creates a simple Linear Neural Network with 3 input and 2 output features. Using Mean Squared Error Loss, the gradient is calculated on one iteration for the weights and bias of the model. \n",
        "\n",
        "The model created is as follows:\n",
        "\n",
        "$Y = X*W^T + b$ where\n",
        "\n",
        "Shape of $Y = 10\\times2$ <br/>\n",
        "Shape of $X = 10\\times3$ <br/>\n",
        "Shape of $W = 2\\times3$ <br/>\n",
        "Shape of $b = 1\\times2$ <br/>\n",
        "\n",
        "Note: $b$ gets broadcast to a $10\\times2$ when being added to the product of $X*W^T$.\n",
        "\n",
        "MSE Loss is implemented as: `loss = (pred-y)**2).mean()` and\n",
        "\n",
        "$loss = \\frac{1}{N} * ||\\tilde Y - Y||^2$ where loss is a scalar.\n",
        "\n",
        "Computing the gradients:\n",
        "\n",
        "$\\frac{\\partial loss}{\\partial W} = \\frac{2}{N}(X * W^T + b - y)^T*X$ of shape $2\\times3$\n",
        "\n",
        "$\\frac{\\partial loss}{\\partial b} = \\frac{2}{N}(X * W^T + b - y)$ of shape $10\\times2$ which gets accumulated sequentially on the bias of shape $1\\times2$\n",
        "\n"
      ],
      "metadata": {
        "id": "5Jmln-rJUTbq"
      }
    },
    {
      "cell_type": "markdown",
      "source": [
        "## Section 3: Linear Regression\n"
      ],
      "metadata": {
        "id": "gxHzvhMseEQI"
      }
    },
    {
      "cell_type": "code",
      "source": [
        "# Hyper-parameters\n",
        "input_size = 1\n",
        "output_size = 1\n",
        "\n",
        "# Toy dataset\n",
        "x_train = np.array([[3.2], [4.1], [5.6], [7.69], [6.3], [4.112], \n",
        "                    [9.79], [5.182], [6.59], [3.167], [7.042], \n",
        "                    [10.921], [5.268], [7.9], [3.0]], dtype=np.float32)\n",
        "\n",
        "y_train = np.array([[1.7], [2.76], [2.09], [3.19], [1.694], [1.573], \n",
        "                    [3.366], [2.596], [2.53], [1.221], [2.827], \n",
        "                    [3.465], [1.65], [2.904], [1.3]], dtype=np.float32)"
      ],
      "metadata": {
        "id": "2QS90Mv4T03n"
      },
      "execution_count": 18,
      "outputs": []
    },
    {
      "cell_type": "code",
      "source": [
        "def main(learning_rate=0.001, num_epochs = 60):\n",
        "  # Linear regression model\n",
        "  model = nn.Linear(input_size, output_size)\n",
        "\n",
        "  # Loss and optimizer\n",
        "  criterion = nn.MSELoss()\n",
        "\n",
        "  # Create optimizer\n",
        "  # Hint: check manual for model.parameters\n",
        "  # === Complete the code (1')\n",
        "  optimizer = torch.optim.SGD([model.weight, model.bias], lr=learning_rate)\n",
        "  # === Complete the code\n",
        "\n",
        "  # Train the model\n",
        "  for epoch in range(num_epochs):\n",
        "      # Convert numpy arrays to torch tensors\n",
        "      inputs = torch.from_numpy(x_train)\n",
        "      targets = torch.from_numpy(y_train)\n",
        "\n",
        "      # Forward pass\n",
        "      # === Complete the code (2')\n",
        "      outputs = model(inputs)\n",
        "      loss = criterion(targets, outputs)\n",
        "      # === Complete the code\n",
        "      \n",
        "      # Backward and optimize\n",
        "      # === Complete the code (3')\n",
        "      optimizer.zero_grad()\n",
        "      loss.backward()\n",
        "      optimizer.step()\n",
        "      # === Complete the code\n",
        "      \n",
        "      if (epoch+1) % 5 == 0:\n",
        "          print ('Epoch [{}/{}], Loss: {:.4f}'.format(epoch+1, num_epochs, loss.item()))\n",
        "\n",
        "  # Plot the graph\n",
        "  predicted = model(torch.from_numpy(x_train)).detach().numpy()\n",
        "  plt.plot(x_train, y_train, 'ro', label='Original data')\n",
        "  plt.plot(x_train, predicted, label='Fitted line')\n",
        "  plt.legend()\n",
        "  plt.show()"
      ],
      "metadata": {
        "id": "7dhHzTVaePXF"
      },
      "execution_count": 19,
      "outputs": []
    },
    {
      "cell_type": "code",
      "source": [
        "main()"
      ],
      "metadata": {
        "colab": {
          "base_uri": "https://localhost:8080/",
          "height": 473
        },
        "id": "ACWgdcIWeU01",
        "outputId": "b3496d45-8131-422b-b509-382acf8c7eae"
      },
      "execution_count": 20,
      "outputs": [
        {
          "output_type": "stream",
          "name": "stdout",
          "text": [
            "Epoch [5/60], Loss: 3.5557\n",
            "Epoch [10/60], Loss: 1.5880\n",
            "Epoch [15/60], Loss: 0.7714\n",
            "Epoch [20/60], Loss: 0.4324\n",
            "Epoch [25/60], Loss: 0.2917\n",
            "Epoch [30/60], Loss: 0.2333\n",
            "Epoch [35/60], Loss: 0.2090\n",
            "Epoch [40/60], Loss: 0.1988\n",
            "Epoch [45/60], Loss: 0.1946\n",
            "Epoch [50/60], Loss: 0.1928\n",
            "Epoch [55/60], Loss: 0.1920\n",
            "Epoch [60/60], Loss: 0.1916\n"
          ]
        },
        {
          "output_type": "display_data",
          "data": {
            "text/plain": [
              "<Figure size 432x288 with 1 Axes>"
            ],
            "image/png": "[encoded data removed]"
          },
          "metadata": {
            "needs_background": "light"
          }
        }
      ]
    },
    {
      "cell_type": "markdown",
      "source": [
        "Now let's investigate into how learning rate affects the training process.\n",
        "\n",
        "===> Question 5: Experiments with different learning rates and num_epochs.   \n",
        "When will the training diverges? What's your suggested value for the learning rate?   \n",
        "Justify your answer by running more experiments (leaving the results in the notebook). (5')     \n",
        "===> Answer: The experiment is rerun with a modified main function called `experiment()` which returns the list of losses through the epochs. The relevant code for the blocks can be found in the subsequent cells.\n",
        "\n",
        "The learning rate is iterated from 0.001 to 1 with a step size of 0.001 and we can see that the training stops to converge after a learning rate of 0.023 and starts to diverge at 0.024.\n",
        "\n",
        "Comparing the final loss values for the learning rates from 0.001 to 0.023 after the default number of epochs (60) at the given seed, we can see that 0.012 gives us the lowest loss value of 0.16 making 0.012 the best learning rate.\n",
        "\n",
        "Experiments across the learning rates for calculating the best epoch are done by training for a 1000 epochs and finding the epochs where the difference in loss is less than 0.1% of the previous. This gives an indication of where the training loss starts to plateau. However, this number varies significantly across different learning rates. For the learning rate of 0.12 we see than beyond the 2nd epoch only minor changes in the loss can be seen.\n",
        "\n",
        "However we were able to improve out best loss from 0.19 to 0.16 by experiments over the parameters."
      ],
      "metadata": {
        "id": "6wWicEaIfYMJ"
      }
    },
    {
      "cell_type": "code",
      "source": [
        "random.seed(0)\n",
        "np.random.seed(0)\n",
        "torch.manual_seed(0)\n",
        "\n",
        "main(learning_rate=0.012, num_epochs = 60)"
      ],
      "metadata": {
        "colab": {
          "base_uri": "https://localhost:8080/",
          "height": 473
        },
        "id": "d31POxIKeaQV",
        "outputId": "8b96437d-e2e8-4ae0-d417-09a14a0acd78"
      },
      "execution_count": 21,
      "outputs": [
        {
          "output_type": "stream",
          "name": "stdout",
          "text": [
            "Epoch [5/60], Loss: 0.1614\n",
            "Epoch [10/60], Loss: 0.1613\n",
            "Epoch [15/60], Loss: 0.1613\n",
            "Epoch [20/60], Loss: 0.1612\n",
            "Epoch [25/60], Loss: 0.1612\n",
            "Epoch [30/60], Loss: 0.1611\n",
            "Epoch [35/60], Loss: 0.1610\n",
            "Epoch [40/60], Loss: 0.1610\n",
            "Epoch [45/60], Loss: 0.1609\n",
            "Epoch [50/60], Loss: 0.1609\n",
            "Epoch [55/60], Loss: 0.1608\n",
            "Epoch [60/60], Loss: 0.1608\n"
          ]
        },
        {
          "output_type": "display_data",
          "data": {
            "text/plain": [
              "<Figure size 432x288 with 1 Axes>"
            ],
            "image/png": "[encoded data removed]"
          },
          "metadata": {
            "needs_background": "light"
          }
        }
      ]
    },
    {
      "cell_type": "code",
      "source": [
        "# Modified main function for experiment to return losses\n",
        "def experiment(learning_rate = 0.001, num_epochs = 60):\n",
        "  # Linear regression model\n",
        "  model = nn.Linear(input_size, output_size)\n",
        "\n",
        "  # Loss and optimizer\n",
        "  criterion = nn.MSELoss()\n",
        "  optimizer = torch.optim.SGD([model.weight, model.bias], lr=learning_rate)\n",
        "\n",
        "  # Result array\n",
        "  res = []\n",
        "\n",
        "  # Train the model\n",
        "  for epoch in range(num_epochs):\n",
        "      # Convert numpy arrays to torch tensors\n",
        "      inputs = torch.from_numpy(x_train)\n",
        "      targets = torch.from_numpy(y_train)\n",
        "\n",
        "      # Forward pass\n",
        "      outputs = model(inputs)\n",
        "      loss = criterion(targets, outputs)\n",
        "      \n",
        "      # Backward and optimize\n",
        "      optimizer.zero_grad()\n",
        "      loss.backward()\n",
        "      optimizer.step()\n",
        "      \n",
        "      res.append(loss.item())\n",
        "  return(res)"
      ],
      "metadata": {
        "id": "rDxFC0ZzhM2_"
      },
      "execution_count": 22,
      "outputs": []
    },
    {
      "cell_type": "code",
      "source": [
        "random.seed(0)\n",
        "np.random.seed(0)\n",
        "torch.manual_seed(0)\n",
        "\n",
        "# Experiment for divergence on given loss function\n",
        "step = 0.001\n",
        "loss_range = np.arange(0.001, 1.0, step)\n",
        "prev_converge = True\n",
        "for loss in loss_range:\n",
        "  losses = experiment(loss)\n",
        "  converge = (losses == sorted(losses, reverse=True))\n",
        "  if(not converge and prev_converge):\n",
        "    print(f'Model training starts to diverge after learning rate {loss-(step):.3f}')\n",
        "    loss_range = np.arange(loss_range[0], loss-step, step)\n",
        "    break"
      ],
      "metadata": {
        "colab": {
          "base_uri": "https://localhost:8080/"
        },
        "id": "ZXDT36ehKErL",
        "outputId": "0e66cc86-4e6f-461e-9125-cc46a805204a"
      },
      "execution_count": 23,
      "outputs": [
        {
          "output_type": "stream",
          "name": "stdout",
          "text": [
            "Model training starts to diverge after learning rate 0.023\n"
          ]
        }
      ]
    },
    {
      "cell_type": "code",
      "source": [
        "random.seed(0)\n",
        "np.random.seed(0)\n",
        "torch.manual_seed(0)\n",
        "\n",
        "# Experiment for best learning rate on loss function\n",
        "best_losses = []\n",
        "for loss in loss_range:\n",
        "    best_losses.append(experiment(loss, 60)[-1])\n",
        "print(f'The best loss value of {min(best_losses)} occurs at learning rate {loss_range[np.argmin(best_losses)]}')\n",
        "# Plot the graph\n",
        "plt.plot(loss_range, best_losses, label='Loss values')\n",
        "plt.show()"
      ],
      "metadata": {
        "colab": {
          "base_uri": "https://localhost:8080/",
          "height": 282
        },
        "id": "_O3CB-PjMaax",
        "outputId": "ceb9817a-c673-4da3-8170-835a6c0a1796"
      },
      "execution_count": 24,
      "outputs": [
        {
          "output_type": "stream",
          "name": "stdout",
          "text": [
            "The best loss value of 0.16000889241695404 occurs at learning rate 0.012\n"
          ]
        },
        {
          "output_type": "display_data",
          "data": {
            "text/plain": [
              "<Figure size 432x288 with 1 Axes>"
            ],
            "image/png": "[encoded data removed]"
          },
          "metadata": {
            "needs_background": "light"
          }
        }
      ]
    },
    {
      "cell_type": "code",
      "source": [
        "random.seed(0)\n",
        "np.random.seed(0)\n",
        "torch.manual_seed(0)\n",
        "\n",
        "# Experiment for finding epoch value\n",
        "# Epoch plateau is calculated by the epoch where the average of the next \n",
        "# 5 epochs differs from current by less than 0.1%.\n",
        "epochs = 1000\n",
        "for loss in loss_range:\n",
        "  losses = experiment(loss, epochs)\n",
        "  for i in range(epochs-5):\n",
        "    if(abs((losses[i] - np.mean(losses[i:i+5]))/losses[i]) < 0.001*losses[i]):\n",
        "      print(f'Epoch for learning rate {loss:.3f} where loss starts to plateau is {i}')\n",
        "      break\n"
      ],
      "metadata": {
        "colab": {
          "base_uri": "https://localhost:8080/"
        },
        "id": "FCS8SZcDYAMT",
        "outputId": "56b3a0cd-1d99-4155-b2dd-2667fef29fdf"
      },
      "execution_count": 26,
      "outputs": [
        {
          "output_type": "stream",
          "name": "stdout",
          "text": [
            "Epoch for learning rate 0.001 where loss starts to plateau is 61\n",
            "Epoch for learning rate 0.003 where loss starts to plateau is 326\n",
            "Epoch for learning rate 0.004 where loss starts to plateau is 15\n",
            "Epoch for learning rate 0.005 where loss starts to plateau is 515\n",
            "Epoch for learning rate 0.006 where loss starts to plateau is 973\n",
            "Epoch for learning rate 0.008 where loss starts to plateau is 627\n",
            "Epoch for learning rate 0.009 where loss starts to plateau is 4\n",
            "Epoch for learning rate 0.010 where loss starts to plateau is 768\n",
            "Epoch for learning rate 0.011 where loss starts to plateau is 3\n",
            "Epoch for learning rate 0.012 where loss starts to plateau is 2\n",
            "Epoch for learning rate 0.013 where loss starts to plateau is 444\n",
            "Epoch for learning rate 0.014 where loss starts to plateau is 748\n",
            "Epoch for learning rate 0.015 where loss starts to plateau is 516\n",
            "Epoch for learning rate 0.016 where loss starts to plateau is 189\n",
            "Epoch for learning rate 0.017 where loss starts to plateau is 521\n",
            "Epoch for learning rate 0.018 where loss starts to plateau is 579\n",
            "Epoch for learning rate 0.019 where loss starts to plateau is 196\n",
            "Epoch for learning rate 0.020 where loss starts to plateau is 182\n",
            "Epoch for learning rate 0.021 where loss starts to plateau is 467\n",
            "Epoch for learning rate 0.022 where loss starts to plateau is 506\n"
          ]
        }
      ]
    }
  ]
}